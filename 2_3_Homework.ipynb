{
  "nbformat": 4,
  "nbformat_minor": 0,
  "metadata": {
    "colab": {
      "provenance": [],
      "authorship_tag": "ABX9TyPnzvjCT/6Q4nlJrCmjKsiQ",
      "include_colab_link": true
    },
    "kernelspec": {
      "name": "python3",
      "display_name": "Python 3"
    },
    "language_info": {
      "name": "python"
    }
  },
  "cells": [
    {
      "cell_type": "markdown",
      "metadata": {
        "id": "view-in-github",
        "colab_type": "text"
      },
      "source": [
        "<a href=\"https://colab.research.google.com/github/Chaskins1115/MAT494/blob/main/2_3_Homework.ipynb\" target=\"_parent\"><img src=\"https://colab.research.google.com/assets/colab-badge.svg\" alt=\"Open In Colab\"/></a>"
      ]
    },
    {
      "cell_type": "markdown",
      "source": [
        "**Correlation**"
      ],
      "metadata": {
        "id": "WS3lR4SwPdtB"
      }
    },
    {
      "cell_type": "code",
      "execution_count": 4,
      "metadata": {
        "colab": {
          "base_uri": "https://localhost:8080/",
          "height": 299
        },
        "id": "SOPPz7mlG1Gw",
        "outputId": "39dcc811-1213-459e-ac03-1bf66dc5ca2e"
      },
      "outputs": [
        {
          "output_type": "stream",
          "name": "stdout",
          "text": [
            "data1: mean=50.744 stdv=9.438\n",
            "data2: mean=101.309 stdv=14.019\n"
          ]
        },
        {
          "output_type": "display_data",
          "data": {
            "text/plain": [
              "<Figure size 432x288 with 1 Axes>"
            ],
            "image/png": "[encoded data removed]"
          },
          "metadata": {
            "needs_background": "light"
          }
        }
      ],
      "source": [
        "from numpy import mean\n",
        "from numpy import std\n",
        "from numpy.random import randn\n",
        "from numpy.random import seed\n",
        "from matplotlib import pyplot\n",
        "# seed random number generator\n",
        "seed(1)\n",
        "# prepare data\n",
        "data1 = 10 * randn(300) + 50\n",
        "data2 = data1 + (10 * randn(300) + 50)\n",
        "# summarize\n",
        "print('data1: mean=%.3f stdv=%.3f' % (mean(data1), std(data1)))\n",
        "print('data2: mean=%.3f stdv=%.3f' % (mean(data2), std(data2)))\n",
        "# plot\n",
        "pyplot.scatter(data1, data2)\n",
        "pyplot.show()\n"
      ]
    },
    {
      "cell_type": "markdown",
      "source": [
        "**Covariance**"
      ],
      "metadata": {
        "id": "OWxehNGAPlA1"
      }
    },
    {
      "cell_type": "code",
      "source": [
        "# calculate the covariance between two variables\n",
        "from numpy.random import randn\n",
        "from numpy.random import seed\n",
        "from numpy import cov\n",
        "# seed random number generator\n",
        "seed(1)\n",
        "# prepare data\n",
        "data1 = 10 * randn(300) + 50\n",
        "data2 = data1 + (10 * randn(300) + 50)\n",
        "# calculate covariance matrix\n",
        "covariance = cov(data1, data2)\n",
        "print(covariance)\n",
        "# calculate the covariance between two variables\n",
        "from numpy.random import randn\n",
        "from numpy.random import seed\n",
        "from numpy import cov\n",
        "# seed random number generator\n",
        "seed(1)\n",
        "# prepare data\n",
        "data1 = 10 * randn(300) + 50\n",
        "data2 = data1 + (10 * randn(300) + 50)\n",
        "# calculate covariance matrix\n",
        "covariance = cov(data1, data2)\n",
        "print(covariance)"
      ],
      "metadata": {
        "colab": {
          "base_uri": "https://localhost:8080/"
        },
        "id": "uDI9f4O8PTEL",
        "outputId": "2dd8535a-e42a-462d-c997-f30121488669"
      },
      "execution_count": 5,
      "outputs": [
        {
          "output_type": "stream",
          "name": "stdout",
          "text": [
            "[[ 89.38194799  88.05133817]\n",
            " [ 88.05133817 197.194633  ]]\n",
            "[[ 89.38194799  88.05133817]\n",
            " [ 88.05133817 197.194633  ]]\n"
          ]
        }
      ]
    },
    {
      "cell_type": "markdown",
      "source": [
        "**Pearsons Correlation**"
      ],
      "metadata": {
        "id": "DhZR5qwuQLyz"
      }
    },
    {
      "cell_type": "code",
      "source": [
        "# calculate the Pearson's correlation between two variables\n",
        "from numpy.random import randn\n",
        "from numpy.random import seed\n",
        "from scipy.stats import pearsonr\n",
        "# seed random number generator\n",
        "seed(1)\n",
        "# prepare data\n",
        "data1 = 10 * randn(300) + 50\n",
        "data2 = data1 + (10 * randn(300) + 50)\n",
        "# calculate Pearson's correlation\n",
        "corr, _ = pearsonr(data1, data2)\n",
        "print('Pearsons correlation: %.3f' % corr)"
      ],
      "metadata": {
        "colab": {
          "base_uri": "https://localhost:8080/"
        },
        "id": "7z7Ks9cDQSJw",
        "outputId": "c629efcd-f85e-4302-bc4e-d1e19b0dc147"
      },
      "execution_count": 6,
      "outputs": [
        {
          "output_type": "stream",
          "name": "stdout",
          "text": [
            "Pearsons correlation: 0.663\n"
          ]
        }
      ]
    }
  ]
}