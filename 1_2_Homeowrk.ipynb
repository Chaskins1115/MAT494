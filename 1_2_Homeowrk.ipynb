{
  "nbformat": 4,
  "nbformat_minor": 0,
  "metadata": {
    "colab": {
      "provenance": [],
      "authorship_tag": "ABX9TyMQqO5hA2t+ipqi/wTaqa2s",
      "include_colab_link": true
    },
    "kernelspec": {
      "name": "python3",
      "display_name": "Python 3"
    },
    "language_info": {
      "name": "python"
    }
  },
  "cells": [
    {
      "cell_type": "markdown",
      "metadata": {
        "id": "view-in-github",
        "colab_type": "text"
      },
      "source": [
        "<a href=\"https://colab.research.google.com/github/Chaskins1115/MAT494/blob/main/1_2_Homeowrk.ipynb\" target=\"_parent\"><img src=\"https://colab.research.google.com/assets/colab-badge.svg\" alt=\"Open In Colab\"/></a>"
      ]
    },
    {
      "cell_type": "code",
      "execution_count": 1,
      "metadata": {
        "colab": {
          "base_uri": "https://localhost:8080/"
        },
        "id": "xvGBZUBMc8CW",
        "outputId": "33342726-2ce3-47c8-e93a-ef3c045fcb44"
      },
      "outputs": [
        {
          "output_type": "stream",
          "name": "stdout",
          "text": [
            "[ 0  1  2  3  4  5  6  7  8  9 10 11 12 13 14]\n"
          ]
        }
      ],
      "source": [
        "import numpy as np\n",
        "a = np.arange(15)\n",
        "print(a)"
      ]
    },
    {
      "cell_type": "code",
      "source": [
        "# index\n",
        "a = np.arange(10)\n",
        "print(a)\n",
        "print(a[-1])\n",
        "print(a[1:3])\n",
        "print(a[1:5:2])"
      ],
      "metadata": {
        "colab": {
          "base_uri": "https://localhost:8080/"
        },
        "id": "spF9eCFqdI3r",
        "outputId": "2256b299-e2bc-40dc-e8c7-866f06aa4803"
      },
      "execution_count": 2,
      "outputs": [
        {
          "output_type": "stream",
          "name": "stdout",
          "text": [
            "[0 1 2 3 4 5 6 7 8 9]\n",
            "9\n",
            "[1 2]\n",
            "[1 3]\n"
          ]
        }
      ]
    },
    {
      "cell_type": "code",
      "source": [
        "# slice index\n",
        "a = np.array([[1,2,3,4], [5,6,7,8], [9,10,11,12]])\n",
        "print(a)\n",
        "b = a[:2, 1:3]\n",
        "print(b)"
      ],
      "metadata": {
        "colab": {
          "base_uri": "https://localhost:8080/"
        },
        "id": "QTosnPZidM3t",
        "outputId": "af3bac36-e28c-40ef-fb6b-22f4de85c20e"
      },
      "execution_count": 3,
      "outputs": [
        {
          "output_type": "stream",
          "name": "stdout",
          "text": [
            "[[ 1  2  3  4]\n",
            " [ 5  6  7  8]\n",
            " [ 9 10 11 12]]\n",
            "[[2 3]\n",
            " [6 7]]\n"
          ]
        }
      ]
    },
    {
      "cell_type": "code",
      "source": [
        "# inversion\n",
        "A = np.matrix([[1,0,0],\n",
        "               [0,1,0],\n",
        "               [0,0,1]])\n",
        "\n",
        "B = np.matrix([[3,1],\n",
        "               [1,3]])\n",
        "\n",
        "print(A, '\\n')\n",
        "print(np.trace(A), '\\n')\n",
        "print(np.invert(A), '\\n')\n",
        "\n",
        "print(B, '\\n')\n",
        "print(np.trace(B), '\\n')\n",
        "print(np.invert(B))"
      ],
      "metadata": {
        "colab": {
          "base_uri": "https://localhost:8080/"
        },
        "id": "RHMfsGhzdQ7A",
        "outputId": "35d092cd-dccf-4cba-ebc5-053ef3b6174f"
      },
      "execution_count": 4,
      "outputs": [
        {
          "output_type": "stream",
          "name": "stdout",
          "text": [
            "[[1 0 0]\n",
            " [0 1 0]\n",
            " [0 0 1]] \n",
            "\n",
            "3 \n",
            "\n",
            "[[-2 -1 -1]\n",
            " [-1 -2 -1]\n",
            " [-1 -1 -2]] \n",
            "\n",
            "[[3 1]\n",
            " [1 3]] \n",
            "\n",
            "6 \n",
            "\n",
            "[[-4 -2]\n",
            " [-2 -4]]\n"
          ]
        }
      ]
    },
    {
      "cell_type": "code",
      "source": [
        "# stacking\n",
        "a=np.full((3,2),1.)\n",
        "b=np.full((3,2),2.)\n",
        "c=np.full((3,2),3.)\n",
        "\n",
        "print('a=',a)\n",
        "print('b=',b)\n",
        "print('c=',c)\n",
        "\n",
        "print('hstack=',np.hstack((a,b,c)))\n",
        "print('vstack=',np.vstack((a,b,c)))"
      ],
      "metadata": {
        "id": "nhZ0gG-8ddXL",
        "outputId": "96e03378-a93d-4fd8-b9da-3755711f4a76",
        "colab": {
          "base_uri": "https://localhost:8080/"
        }
      },
      "execution_count": 5,
      "outputs": [
        {
          "output_type": "stream",
          "name": "stdout",
          "text": [
            "a= [[1. 1.]\n",
            " [1. 1.]\n",
            " [1. 1.]]\n",
            "b= [[2. 2.]\n",
            " [2. 2.]\n",
            " [2. 2.]]\n",
            "c= [[3. 3.]\n",
            " [3. 3.]\n",
            " [3. 3.]]\n",
            "hstack= [[1. 1. 2. 2. 3. 3.]\n",
            " [1. 1. 2. 2. 3. 3.]\n",
            " [1. 1. 2. 2. 3. 3.]]\n",
            "vstack= [[1. 1.]\n",
            " [1. 1.]\n",
            " [1. 1.]\n",
            " [2. 2.]\n",
            " [2. 2.]\n",
            " [2. 2.]\n",
            " [3. 3.]\n",
            " [3. 3.]\n",
            " [3. 3.]]\n"
          ]
        }
      ]
    }
  ]
}