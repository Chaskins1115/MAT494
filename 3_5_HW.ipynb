{
  "nbformat": 4,
  "nbformat_minor": 0,
  "metadata": {
    "colab": {
      "provenance": [],
      "authorship_tag": "ABX9TyOVhl6hgyHne5s3Nzi1G+gB",
      "include_colab_link": true
    },
    "kernelspec": {
      "name": "python3",
      "display_name": "Python 3"
    },
    "language_info": {
      "name": "python"
    }
  },
  "cells": [
    {
      "cell_type": "markdown",
      "metadata": {
        "id": "view-in-github",
        "colab_type": "text"
      },
      "source": [
        "<a href=\"https://colab.research.google.com/github/Chaskins1115/MAT494/blob/main/3_5_HW.ipynb\" target=\"_parent\"><img src=\"https://colab.research.google.com/assets/colab-badge.svg\" alt=\"Open In Colab\"/></a>"
      ]
    },
    {
      "cell_type": "markdown",
      "source": [
        "3.5 K-means\n",
        "\n",
        "Here we provide some examples of K-means using sklearn: https://scikit-learn.org/stable/modules/generated/sklearn.cluster.KMeans.html\n",
        "\n",
        "Copyright:"
      ],
      "metadata": {
        "id": "DqxeydfRuWed"
      }
    },
    {
      "cell_type": "code",
      "execution_count": 1,
      "metadata": {
        "id": "ygo9arlLuTNa"
      },
      "outputs": [],
      "source": [
        "# import libraries\n",
        "from numpy import unique\n",
        "from numpy import where\n",
        "from sklearn.datasets import make_classification\n",
        "from sklearn.cluster import KMeans\n",
        "from sklearn.cluster import MiniBatchKMeans\n",
        "import matplotlib.pyplot as plt"
      ]
    },
    {
      "cell_type": "markdown",
      "source": [
        "1. K-Means"
      ],
      "metadata": {
        "id": "VZoLHSHKuiJ6"
      }
    },
    {
      "cell_type": "code",
      "source": [
        "# Load the data\n",
        "# \"_\" hold the position of \"y\" but we are not interested in y here,\n",
        "# so we can use \"_\" instead of creating a variable y.\n",
        "X, _ = make_classification(n_samples=1000, n_features=2, \n",
        "                           n_informative=2, n_redundant=0, \n",
        "                           n_clusters_per_class=1, random_state=4)\n",
        "\n",
        "# Using the k-means method\n",
        "model = KMeans(n_clusters=2)\n",
        "model.fit(X)\n",
        "\n",
        "# Assign a cluster to each example.\n",
        "yhat = model.predict(X)\n",
        "\n",
        "# Retrieve a unique cluster.\n",
        "clusters = unique(yhat)\n",
        "\n",
        "# Create a scatter plot for the samples of each cluster.\n",
        "for cluster in clusters:\n",
        "    row_ix = where(yhat == cluster)\n",
        "    plt.scatter(X[row_ix, 0], X[row_ix, 1])\n",
        "    \n",
        "# Draw the scatter plot.\n",
        "plt.show()"
      ],
      "metadata": {
        "colab": {
          "base_uri": "https://localhost:8080/",
          "height": 265
        },
        "id": "hCGooUATujMU",
        "outputId": "c91d72f1-ffd3-429e-e3c5-dece86a991b6"
      },
      "execution_count": 2,
      "outputs": [
        {
          "output_type": "display_data",
          "data": {
            "text/plain": [
              "<Figure size 432x288 with 1 Axes>"
            ],
            "image/png": "[encoded data removed]"
          },
          "metadata": {
            "needs_background": "light"
          }
        }
      ]
    },
    {
      "cell_type": "markdown",
      "source": [
        "2. Mini-Batch K-Means\n"
      ],
      "metadata": {
        "id": "utul3YJGuoaA"
      }
    },
    {
      "cell_type": "code",
      "source": [
        "# Data sources\n",
        "X, _ = make_classification(n_samples=1000, n_features=2, \n",
        "                           n_informative=2, n_redundant=0, \n",
        "                           n_clusters_per_class=1, random_state=4)\n",
        "\n",
        "# Using the mini-batch k-means method\n",
        "model = MiniBatchKMeans(n_clusters=2)\n",
        "model.fit(X)\n",
        "\n",
        "# Assign a cluster to each example.\n",
        "yhat = model.predict(X)\n",
        "\n",
        "# Retrieve a unique cluster.\n",
        "clusters = unique(yhat)\n",
        "\n",
        "# Create a scatter plot for the samples of each cluster.\n",
        "for cluster in clusters:\n",
        "    row_ix = where(yhat == cluster)\n",
        "    plt.scatter(X[row_ix, 0], X[row_ix, 1])\n",
        "    \n",
        "# Draw the scatter plot.\n",
        "plt.show()"
      ],
      "metadata": {
        "id": "DV07bF9XurVr",
        "outputId": "93a189e9-e0e9-44a1-c3a2-1643d6e42722",
        "colab": {
          "base_uri": "https://localhost:8080/",
          "height": 265
        }
      },
      "execution_count": 3,
      "outputs": [
        {
          "output_type": "display_data",
          "data": {
            "text/plain": [
              "<Figure size 432x288 with 1 Axes>"
            ],
            "image/png": "[encoded data removed]"
          },
          "metadata": {
            "needs_background": "light"
          }
        }
      ]
    }
  ]
}