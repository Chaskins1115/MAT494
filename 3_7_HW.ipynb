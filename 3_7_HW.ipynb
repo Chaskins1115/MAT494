{
  "nbformat": 4,
  "nbformat_minor": 0,
  "metadata": {
    "colab": {
      "provenance": [],
      "authorship_tag": "ABX9TyNlamXbILSKig7rcGKrdX+W",
      "include_colab_link": true
    },
    "kernelspec": {
      "name": "python3",
      "display_name": "Python 3"
    },
    "language_info": {
      "name": "python"
    }
  },
  "cells": [
    {
      "cell_type": "markdown",
      "metadata": {
        "id": "view-in-github",
        "colab_type": "text"
      },
      "source": [
        "<a href=\"https://colab.research.google.com/github/Chaskins1115/MAT494/blob/main/3_7_HW.ipynb\" target=\"_parent\"><img src=\"https://colab.research.google.com/assets/colab-badge.svg\" alt=\"Open In Colab\"/></a>"
      ]
    },
    {
      "cell_type": "markdown",
      "source": [
        "3.7 Neural Networks TensorFlow 2\n",
        "\n",
        "Here we provide a simple example of Neural Network using TensorFlow 2 with MNIST dataset.\n",
        "\n",
        "Source:\n",
        "\n",
        "https://www.tensorflow.org/tutorials/quickstart/beginner\n",
        "\n"
      ],
      "metadata": {
        "id": "S8fyREtxwbQ1"
      }
    },
    {
      "cell_type": "code",
      "execution_count": 1,
      "metadata": {
        "id": "-34rYehOwYYr"
      },
      "outputs": [],
      "source": [
        "import tensorflow as tf"
      ]
    },
    {
      "cell_type": "markdown",
      "source": [
        "1. Load and prepare the MNIST dataset\n",
        "\n",
        "Reference:\n",
        "\n",
        "https://www.tensorflow.org/api_docs/python/tf/keras/datasets/mnist/load_data\n",
        "\n",
        "This is a dataset of 60,000 28x28 grayscale images of the 10 digits, along with a test set of 10,000 images. It is considered another classic dataset in machine learning area. The images are handwritings of English letters. Researchers are using it as a training set to build neural network models that would recognize human handwritings.\n",
        "\n",
        "The dataset we import from tf.keras is not the original image set, but numerical matrix that transfromed from the images via certain kernels.\n",
        "\n",
        "tf.keras.datasets.mnist.load_data() will return tuples of arrays:\n",
        "\n",
        "x_train: uint8 NumPy array of grayscale image data with shapes (60000, 28, 28), containing the training data. Pixel values range from 0 to 255.\n",
        "\n",
        "y_train: uint8 NumPy array of digit labels (integers in range 0-9) with shape (60000,) for the training data.\n",
        "\n",
        "x_test: uint8 NumPy array of grayscale image data with shapes (10000, 28, 28), containing the test data. Pixel values range from 0 to 255.\n",
        "\n",
        "y_test: uint8 NumPy array of digit labels (integers in range 0-9) with shape (10000,) for the test data."
      ],
      "metadata": {
        "id": "5rrhRCYLwzZ4"
      }
    },
    {
      "cell_type": "code",
      "source": [
        "# load the dataset\n",
        "mnist = tf.keras.datasets.mnist\n",
        "\n",
        "# convert the samples from integers to floating-point numbers\n",
        "(x_train, y_train), (x_test, y_test) = mnist.load_data()\n",
        "x_train, x_test = x_train / 255.0, x_test / 255.0\n"
      ],
      "metadata": {
        "colab": {
          "base_uri": "https://localhost:8080/"
        },
        "id": "ZMzTEIqcw2k-",
        "outputId": "3bcd9ba0-ea54-4da9-f843-a10943b84c3f"
      },
      "execution_count": 2,
      "outputs": [
        {
          "output_type": "stream",
          "name": "stdout",
          "text": [
            "Downloading data from https://storage.googleapis.com/tensorflow/tf-keras-datasets/mnist.npz\n",
            "11490434/11490434 [==============================] - 0s 0us/step\n"
          ]
        }
      ]
    },
    {
      "cell_type": "markdown",
      "source": [
        "2. Build the tf.keras.Sequential model by stacking layers.\n",
        "\n",
        "Choose an optimizer and loss function for training:\n",
        "\n",
        "In the cell below there are a few things that are happening, by utilizing numpy for each example the model returns as mentioned below a vector of \"logits\" or \"log-odds\" scores for each class."
      ],
      "metadata": {
        "id": "9O4PiLA7w5mA"
      }
    },
    {
      "cell_type": "code",
      "source": [
        "model = tf.keras.models.Sequential([\n",
        "  tf.keras.layers.Flatten(input_shape=(28, 28)),\n",
        "  tf.keras.layers.Dense(128, activation='relu'),\n",
        "  tf.keras.layers.Dropout(0.2),\n",
        "  tf.keras.layers.Dense(10)\n",
        "])"
      ],
      "metadata": {
        "id": "DjtTRXjXw-LD"
      },
      "execution_count": 3,
      "outputs": []
    },
    {
      "cell_type": "code",
      "source": [
        "predictions = model(x_train[:1]).numpy()\n",
        "predictions"
      ],
      "metadata": {
        "colab": {
          "base_uri": "https://localhost:8080/"
        },
        "id": "279x4huBxB_c",
        "outputId": "31628d6b-049d-4431-c2a0-fd40fa5a8549"
      },
      "execution_count": 4,
      "outputs": [
        {
          "output_type": "execute_result",
          "data": {
            "text/plain": [
              "array([[-0.92039216,  0.64521885, -0.0288277 ,  0.01648408, -0.41477263,\n",
              "        -0.42636308, -0.29052866,  0.35942733, -0.33729422,  0.18805918]],\n",
              "      dtype=float32)"
            ]
          },
          "metadata": {},
          "execution_count": 4
        }
      ]
    },
    {
      "cell_type": "code",
      "source": [
        "tf.nn.softmax(predictions).numpy()"
      ],
      "metadata": {
        "colab": {
          "base_uri": "https://localhost:8080/"
        },
        "id": "FIy8sfmbxFTV",
        "outputId": "a50f95ee-60c9-48ab-923d-24ea12342efc"
      },
      "execution_count": 5,
      "outputs": [
        {
          "output_type": "execute_result",
          "data": {
            "text/plain": [
              "array([[0.04103735, 0.19638827, 0.10008774, 0.1047272 , 0.06804044,\n",
              "        0.06725637, 0.07704166, 0.14756992, 0.0735217 , 0.12432934]],\n",
              "      dtype=float32)"
            ]
          },
          "metadata": {},
          "execution_count": 5
        }
      ]
    },
    {
      "cell_type": "code",
      "source": [
        "loss_fn = tf.keras.losses.SparseCategoricalCrossentropy(from_logits=True)\n",
        "loss_fn(y_train[:1], predictions).numpy()"
      ],
      "metadata": {
        "colab": {
          "base_uri": "https://localhost:8080/"
        },
        "id": "VQrNx4tFxI7y",
        "outputId": "6cdc8f86-4118-4fda-e1d9-cf16eab126c7"
      },
      "execution_count": 7,
      "outputs": [
        {
          "output_type": "execute_result",
          "data": {
            "text/plain": [
              "2.6992435"
            ]
          },
          "metadata": {},
          "execution_count": 7
        }
      ]
    },
    {
      "cell_type": "code",
      "source": [
        "model.compile(optimizer='adam',\n",
        "              loss=loss_fn,\n",
        "              metrics=['accuracy'])\n",
        "\n",
        "model.fit(x_train, y_train, epochs=5)"
      ],
      "metadata": {
        "colab": {
          "base_uri": "https://localhost:8080/"
        },
        "id": "oUD9YrZGxXs1",
        "outputId": "eb3e4be5-f9bb-4b15-9e35-683bbe18bb52"
      },
      "execution_count": 8,
      "outputs": [
        {
          "output_type": "stream",
          "name": "stdout",
          "text": [
            "Epoch 1/5\n",
            "1875/1875 [==============================] - 6s 3ms/step - loss: 0.2954 - accuracy: 0.9132\n",
            "Epoch 2/5\n",
            "1875/1875 [==============================] - 5s 3ms/step - loss: 0.1447 - accuracy: 0.9566\n",
            "Epoch 3/5\n",
            "1875/1875 [==============================] - 5s 3ms/step - loss: 0.1090 - accuracy: 0.9673\n",
            "Epoch 4/5\n",
            "1875/1875 [==============================] - 5s 3ms/step - loss: 0.0903 - accuracy: 0.9722\n",
            "Epoch 5/5\n",
            "1875/1875 [==============================] - 5s 3ms/step - loss: 0.0744 - accuracy: 0.9765\n"
          ]
        },
        {
          "output_type": "execute_result",
          "data": {
            "text/plain": [
              "<keras.callbacks.History at 0x7f79f30e9690>"
            ]
          },
          "metadata": {},
          "execution_count": 8
        }
      ]
    },
    {
      "cell_type": "markdown",
      "source": [
        "3. Evaluate the Model\n",
        "\n",
        "The Model.evaluate method checks the models performance, usually on a \"Validation-set\" or \"Test-set\".\n",
        "\n",
        "Lastly in the main output we see the probability model being exrpessed below in the following array.\n",
        "\n",
        "In [ ]:\n"
      ],
      "metadata": {
        "id": "S50C8dpWxfkx"
      }
    },
    {
      "cell_type": "code",
      "source": [
        "model.evaluate(x_test,  y_test, verbose=2)"
      ],
      "metadata": {
        "colab": {
          "base_uri": "https://localhost:8080/"
        },
        "id": "7mWcEX5ExhtE",
        "outputId": "8e4ba7fc-eecf-4de8-8f04-94e6334b3ff6"
      },
      "execution_count": 9,
      "outputs": [
        {
          "output_type": "stream",
          "name": "stdout",
          "text": [
            "313/313 - 1s - loss: 0.0721 - accuracy: 0.9783 - 772ms/epoch - 2ms/step\n"
          ]
        },
        {
          "output_type": "execute_result",
          "data": {
            "text/plain": [
              "[0.07208162546157837, 0.9782999753952026]"
            ]
          },
          "metadata": {},
          "execution_count": 9
        }
      ]
    },
    {
      "cell_type": "code",
      "source": [
        "probability_model = tf.keras.Sequential([\n",
        "  model,\n",
        "  tf.keras.layers.Softmax()\n",
        "])\n",
        "\n"
      ],
      "metadata": {
        "id": "lH8BHF_PxkS7"
      },
      "execution_count": 11,
      "outputs": []
    },
    {
      "cell_type": "code",
      "source": [
        "probability_model(x_test[:5])"
      ],
      "metadata": {
        "colab": {
          "base_uri": "https://localhost:8080/"
        },
        "id": "1t1p-gG8xtgy",
        "outputId": "5190357c-664b-4c54-9e49-06391a4e0b36"
      },
      "execution_count": 12,
      "outputs": [
        {
          "output_type": "execute_result",
          "data": {
            "text/plain": [
              "<tf.Tensor: shape=(5, 10), dtype=float32, numpy=\n",
              "array([[5.0103456e-08, 5.5653965e-10, 6.7230685e-06, 4.0476659e-04,\n",
              "        1.4196490e-12, 1.0251958e-06, 2.4521089e-13, 9.9955529e-01,\n",
              "        4.0618860e-07, 3.1697604e-05],\n",
              "       [4.3407573e-07, 1.0099352e-04, 9.9987841e-01, 1.9466926e-05,\n",
              "        1.1494846e-14, 2.1012581e-09, 3.4482346e-07, 2.0758428e-13,\n",
              "        1.9095188e-07, 8.0655480e-14],\n",
              "       [6.9985283e-08, 9.9748397e-01, 1.3351921e-04, 6.3322864e-06,\n",
              "        3.3415825e-05, 2.4471112e-06, 1.1903422e-05, 2.0345615e-03,\n",
              "        2.9318631e-04, 4.6065088e-07],\n",
              "       [9.9942410e-01, 1.0695755e-09, 2.9284567e-05, 2.7347298e-08,\n",
              "        5.7927873e-06, 1.0919549e-06, 3.4468636e-04, 7.1423092e-05,\n",
              "        1.6038026e-08, 1.2356053e-04],\n",
              "       [2.7216452e-06, 1.0015634e-09, 4.4515755e-06, 7.5143261e-09,\n",
              "        9.9878079e-01, 4.8190785e-08, 1.3429664e-07, 8.0313468e-05,\n",
              "        1.5948866e-07, 1.1313405e-03]], dtype=float32)>"
            ]
          },
          "metadata": {},
          "execution_count": 12
        }
      ]
    },
    {
      "cell_type": "code",
      "source": [],
      "metadata": {
        "id": "cwWIAEWeyARw"
      },
      "execution_count": null,
      "outputs": []
    },
    {
      "cell_type": "markdown",
      "source": [
        "Copyright 2019 The TensorFlow Authors."
      ],
      "metadata": {
        "id": "b7nIUsfOxvDz"
      }
    },
    {
      "cell_type": "code",
      "source": [
        "#@title Licensed under the Apache License, Version 2.0 (the \"License\");\n",
        "# you may not use this file except in compliance with the License.\n",
        "# You may obtain a copy of the License at\n",
        "#\n",
        "# https://www.apache.org/licenses/LICENSE-2.0\n",
        "#\n",
        "# Unless required by applicable law or agreed to in writing, software\n",
        "# distributed under the License is distributed on an \"AS IS\" BASIS,\n",
        "# WITHOUT WARRANTIES OR CONDITIONS OF ANY KIND, either express or implied.\n",
        "# See the License for the specific language governing permissions and\n",
        "# limitations under the License."
      ],
      "metadata": {
        "id": "Re9rc0Z7xyuA"
      },
      "execution_count": 13,
      "outputs": []
    }
  ]
}