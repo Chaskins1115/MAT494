{
  "nbformat": 4,
  "nbformat_minor": 0,
  "metadata": {
    "colab": {
      "provenance": [],
      "authorship_tag": "ABX9TyNToV096YQ95aTiCsO31izZ",
      "include_colab_link": true
    },
    "kernelspec": {
      "name": "python3",
      "display_name": "Python 3"
    },
    "language_info": {
      "name": "python"
    }
  },
  "cells": [
    {
      "cell_type": "markdown",
      "metadata": {
        "id": "view-in-github",
        "colab_type": "text"
      },
      "source": [
        "<a href=\"https://colab.research.google.com/github/Chaskins1115/MAT494/blob/main/3_2_Homework.ipynb\" target=\"_parent\"><img src=\"https://colab.research.google.com/assets/colab-badge.svg\" alt=\"Open In Colab\"/></a>"
      ]
    },
    {
      "cell_type": "markdown",
      "source": [
        "**3.2.1 Limits**"
      ],
      "metadata": {
        "id": "TamZLcz0aAx5"
      }
    },
    {
      "cell_type": "code",
      "source": [
        "# import sympy\n",
        "from sympy import *\n",
        " \n",
        "x = symbols('x')\n",
        "expr = sin(7 * x)/x;\n",
        "   \n",
        "print(\"Expression: {}\".format(expr))\n",
        "     \n",
        "# Use sympy.limit() method\n",
        "limit_expr = limit(expr, x, 0) \n",
        "     \n",
        "print(\"Limit of the expression evaluates to: {}\".format(limit_expr))"
      ],
      "metadata": {
        "colab": {
          "base_uri": "https://localhost:8080/"
        },
        "id": "NcvPT4F6Zkcq",
        "outputId": "54e65c9e-81a1-4b0d-d0e4-3aa4738d4456"
      },
      "execution_count": 4,
      "outputs": [
        {
          "output_type": "stream",
          "name": "stdout",
          "text": [
            "Expression: sin(7*x)/x\n",
            "Limit of the expression evaluates to: 7\n"
          ]
        }
      ]
    },
    {
      "cell_type": "markdown",
      "source": [
        "**3.2.2 Derivatives**\n"
      ],
      "metadata": {
        "id": "YlY_BtFvaIHs"
      }
    },
    {
      "cell_type": "code",
      "execution_count": 6,
      "metadata": {
        "colab": {
          "base_uri": "https://localhost:8080/",
          "height": 39
        },
        "id": "04zaKkFIZjTy",
        "outputId": "924c77b0-98fe-4665-c78d-35d2457089f7"
      },
      "outputs": [
        {
          "output_type": "execute_result",
          "data": {
            "text/plain": [
              "(tan(x)**2 + 1)*exp(x) + exp(x)*tan(x)"
            ],
            "text/latex": "$\\displaystyle \\left(\\tan^{2}{\\left(x \\right)} + 1\\right) e^{x} + e^{x} \\tan{\\left(x \\right)}$"
          },
          "metadata": {},
          "execution_count": 6
        }
      ],
      "source": [
        "#Product Rule\n",
        "import sympy as sym\n",
        "x = sym.Symbol('x')\n",
        "f = sym.exp(x)*sym.tan(x)\n",
        "derivative_f = f.diff(x)\n",
        "derivative_f"
      ]
    },
    {
      "cell_type": "code",
      "source": [
        "#Partial Derivative\n",
        "from sympy import symbols, diff\n",
        "x, y = symbols('x y', real=True)\n",
        "f = (y**3)*sym.sin(x) + (x**2)*sym.tan(y)\n",
        "diff(f, x)\n"
      ],
      "metadata": {
        "colab": {
          "base_uri": "https://localhost:8080/",
          "height": 39
        },
        "id": "WkUhJcYabCjE",
        "outputId": "f4c919c8-8b2e-4be1-e14d-64900f6285be"
      },
      "execution_count": 28,
      "outputs": [
        {
          "output_type": "execute_result",
          "data": {
            "text/plain": [
              "x**2*(tan(y)**2 + 1) + 3*y**2*sin(x)"
            ],
            "text/latex": "$\\displaystyle x^{2} \\left(\\tan^{2}{\\left(y \\right)} + 1\\right) + 3 y^{2} \\sin{\\left(x \\right)}$"
          },
          "metadata": {},
          "execution_count": 28
        }
      ]
    },
    {
      "cell_type": "code",
      "source": [
        "#Partial Derivative\n",
        "from sympy import symbols, diff\n",
        "x, y, z = symbols('x y z', real=True)\n",
        "f = x**4 - (3*x*y*z)\n",
        "diff(f, x)"
      ],
      "metadata": {
        "colab": {
          "base_uri": "https://localhost:8080/",
          "height": 38
        },
        "id": "RhHObzUXdlrR",
        "outputId": "2b003a6c-ef0a-47e8-c118-bfbfad143f0f"
      },
      "execution_count": 31,
      "outputs": [
        {
          "output_type": "execute_result",
          "data": {
            "text/plain": [
              "4*x**3 - 3*y*z"
            ],
            "text/latex": "$\\displaystyle 4 x^{3} - 3 y z$"
          },
          "metadata": {},
          "execution_count": 31
        }
      ]
    }
  ]
}