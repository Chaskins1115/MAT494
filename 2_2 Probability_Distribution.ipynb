{
  "nbformat": 4,
  "nbformat_minor": 0,
  "metadata": {
    "colab": {
      "provenance": [],
      "authorship_tag": "ABX9TyMM9C1nDrbcBwDWuWcqo0+N",
      "include_colab_link": true
    },
    "kernelspec": {
      "name": "python3",
      "display_name": "Python 3"
    },
    "language_info": {
      "name": "python"
    }
  },
  "cells": [
    {
      "cell_type": "markdown",
      "metadata": {
        "id": "view-in-github",
        "colab_type": "text"
      },
      "source": [
        "<a href=\"https://colab.research.google.com/github/Chaskins1115/MAT494/blob/main/2_2%20Probability_Distribution.ipynb\" target=\"_parent\"><img src=\"https://colab.research.google.com/assets/colab-badge.svg\" alt=\"Open In Colab\"/></a>"
      ]
    },
    {
      "cell_type": "markdown",
      "source": [
        "**2.2.1 Sample Space**\n",
        "    \n",
        "\n",
        "\n"
      ],
      "metadata": {
        "id": "WbJxkebaH-E-"
      }
    },
    {
      "cell_type": "markdown",
      "source": [
        "Example 2.2.4\n",
        "\n",
        "\n",
        "*   Probability of two events with equal probability. I will use the example of a coin for this problem.\n",
        "\n"
      ],
      "metadata": {
        "id": "FnAcVqHgO7k8"
      }
    },
    {
      "cell_type": "code",
      "source": [
        "sample_space = {'heads', 'tails'}\n",
        "probability_heads = 1/len(sample_space)\n",
        "probabiity_tails = 1/len(sample_space)\n",
        "\n",
        "print(probability_heads)\n",
        "print(probabiity_tails)\n",
        "\n",
        "print(f'Probability of heads or tails is {probability_heads}')\n",
        "\n"
      ],
      "metadata": {
        "colab": {
          "base_uri": "https://localhost:8080/"
        },
        "id": "-repVBkhRC1w",
        "outputId": "ef332ac5-7164-4549-966b-f329ce2cc207"
      },
      "execution_count": 6,
      "outputs": [
        {
          "output_type": "stream",
          "name": "stdout",
          "text": [
            "0.5\n",
            "0.5\n",
            "Probability of heads or tails is 0.5\n"
          ]
        }
      ]
    },
    {
      "cell_type": "code",
      "source": [
        "import pandas as pd\n",
        "import numpy as np\n",
        "\n",
        "#create pandas DataFrame with raw data\n",
        "df = pd.DataFrame({'gender': np.repeat(np.array(['Male', 'Female']), 100),\n",
        "                   'favorite food': np.repeat(np.array(['Hamburger', 'Pizza', 'Hotdog',\n",
        "                                                        'Pasta', 'Hamburger', 'Pizza',\n",
        "                                                          'Hotdog', 'Pasta']), \n",
        "                                    (24, 30, 19, 27, 24, 20, 44, 12))})\n",
        "\n",
        "#create contigency table\n",
        "survey_data = pd.crosstab(index=df['gender'], columns=df['favorite food'], margins=True)\n",
        "print(survey_data)\n"
      ],
      "metadata": {
        "colab": {
          "base_uri": "https://localhost:8080/"
        },
        "id": "iuBYwNqZVygq",
        "outputId": "3f5bb6ae-3426-413d-8f38-8a167b0a96da"
      },
      "execution_count": 30,
      "outputs": [
        {
          "output_type": "stream",
          "name": "stdout",
          "text": [
            "favorite food  Hamburger  Hotdog  Pasta  Pizza  All\n",
            "gender                                             \n",
            "Female                24      44     12     20  100\n",
            "Male                  24      19     27     30  100\n",
            "All                   48      63     39     50  200\n"
          ]
        }
      ]
    },
    {
      "cell_type": "code",
      "source": [
        "\n",
        "#find the probability that the favorite food is pizza, given that the person is female\n",
        "print(survey_data.iloc[0,3]/survey_data.iloc[0,4])\n"
      ],
      "metadata": {
        "colab": {
          "base_uri": "https://localhost:8080/"
        },
        "id": "fQP3WZ5db2N3",
        "outputId": "0899aa5e-c01c-4c16-c6fd-16e25171efda"
      },
      "execution_count": 31,
      "outputs": [
        {
          "output_type": "stream",
          "name": "stdout",
          "text": [
            "0.2\n"
          ]
        }
      ]
    }
  ]
}